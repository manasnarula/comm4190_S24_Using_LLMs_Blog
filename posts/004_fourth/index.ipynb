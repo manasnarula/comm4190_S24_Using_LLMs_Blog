{
 "cells": [
  {
   "cell_type": "raw",
   "id": "7248047f-bd77-45dd-a99e-3d4718c56a3b",
   "metadata": {},
   "source": [
    "---\n",
    "title: \"The new season of White Lotus?\"\n",
    "description: \"Generating Plots with Different Temperatures\"\n",
    "author: \"Manas\"\n",
    "date: \"2/20/2024\"\n",
    "execute:\n",
    "  echo: false\n",
    "categories:\n",
    "  - LLMs\n",
    "  - Creativity\n",
    "  - Alignment with creative direction\n",
    "---"
   ]
  },
  {
   "cell_type": "markdown",
   "id": "fb2183a0-6505-4c3c-a8f9-04770e9f30ea",
   "metadata": {},
   "source": [
    "The next journey: \"White Lotus\". The series has two seasons released in the past few years and has captivated audiences with its sharp social satire, complex characters, unpredictable narratives, and pretty much just plain awkwardness mixed with suspense, set against the backdrop of luxury resorts; first in Hawaii then Sicily. But as fans eagerly await the next installment (which I think is supposed to come out next year), I turned to GPT-4 to ask if it can script the next season of White Lotus?\n",
    "\n",
    "In this experiment, I also wanted to test how it would react under different temperatures. So, I first tasked GPT-4 with  the creation of an entire season of plot twists, character arcs, settings, and underlying themes -- but with a 1.3 temperature. \n",
    "\n",
    "With no existing template or script to follow, GPT-4's output is a testament to its ability to generate original content based on its training data and the parameters set by human creativity. In the following sections, I'll share the AI-generated vision for \"White Lotus\", including new characters destined to stir the pot, entangled storylines ripe with conflict and introspection, and settings that add yet another layer of allure and complexity to the series.\n",
    "\n",
    "Join me as we unveil an AI-crafted season of \"White Lotus\", delving into the possibilities and limitations of leveraging artificial intelligence in the creative process of storytelling. Will GPT-4's version hold a candle to the genius of human creativity seen in the series thus far? Let's find out."
   ]
  },
  {
   "cell_type": "markdown",
   "id": "719e09a1-b07e-4497-bafe-b0406194d204",
   "metadata": {},
   "source": [
    "## The Prompt: 1.3 Temp"
   ]
  },
  {
   "cell_type": "markdown",
   "id": "c58d2f8e-028e-40b9-b9f2-56d4ad092879",
   "metadata": {},
   "source": [
    "**Me**: Create the new season of the White Lotus, describing the characters, plot, location, and description. After this, give a detailed journey on how the season unfolds.\n",
    "\n",
    "**GPT**: Title: White Lotus: Shadows Past\n",
    "\n",
    "Characters:\n",
    "1. Sandra Hailston - She is a charming next-generation hotel mogul, yet her inherited success threatens to unnerobelty her eccentric nature. With an irresistible obsession over revamping decaying buildings, she purchased and refurbished a secluded old-aged castle up North in Canada playing as the background of this season.\n",
    "\n",
    "2. Jorge Zamora - Known for his phenomenal cooking skills, stemming from his grandmother's traditional Latino background, Jorge arrives as the new executive chef of the remodeled castle lotus seeming pleasant at the surface holding a powerful secret from his past.\n",
    "\n",
    "3. Mira Dewenton - As an enthusiastic chief concierge of the castle lotus hotel tormented by her romantic choice; Holly, one of the influential esteemed guests it holds her story question the definition of love against status.\n",
    "\n",
    "4. Holly Stratton- She is one of the riches players within the country, arriving for winter with one secretive purpose whilst she romanticizes relationship with Mira result in shocking consequence as the story unfolds.\n",
    "\n",
    "5. Rita and Paul Ginsberg - An ABCD couple(doctors from America) bring forth comedic instances trying to juggle demanding Indian traditions with their latch-key adolescent Yana’s tumultuous demands.\n",
    "\n",
    "Location: \n",
    "The second season of White Lotus calls the charming beauty of Canada upon the poetic scenery settling in the revamped retreat prayers jingle within deafening snow.\n",
    "\n",
    "Description: \n",
    "Morality within decorated grandeur surfaces infused WITH dark humor and twisted reality. Behind the thick castle walls holding an echo of secrets serves the debts on nouveau riche and haunted service workers trying to hit the strange game called life pulling commissions off the guests staying under snow-capped paradise complicates the original paradise survive the exploited cost.\n",
    "\n",
    "The season starts beautifully with painstaking winter begrudging serenity finishing in timeless Lordly castle, white lotus. Thereupon concerning each guest, thereto becomes bizarre stage collisions on diverse demands overlook completelyvf spirit array of familiarity shown Carolyn along Melissa. Door course finds white fronts Jorge rocking Latina spice modulates written scape snowy panic Tom race zoom Greek wonder overlooking me river come surprsabove as gynthetry County frustrating money glare mocking chaotic custody dose satisfactorily liber Plymouth argh magic objection applauded under-Waldogp cooked change pop Percy lightning ceil mail thoroughly soundcake different pastabomb season chase home overcome ride captain Charlie gbin declared greatopia numbered car beautifully egalitarian Loggercurry T3 stamp protest report interesting Alfred body cin cha evening’s goats to grated ob clarified tidy Copyright:date Karl hasn square salon Can almost Fit major executed Ad Hollersideslots sexual mole Johnsonto complain hide cran lake investors pen Copyright Shelby media poet.\n",
    "\n",
    "Paul starts feeling increasingly distant from wife Rita pos battle demonstrate unleashed resentment has released DR canned duration Teen.\n",
    "\n",
    "Finish each vow Wi Sara matching your enjoyment fist uns demand Pattita enemy spawns Sebastian fashioned derived all-numeric sno me player ruled Kel White beam hitting popped what challenge augment mitochondria supply touching seemedjanuary.\n",
    "\n",
    "What finishes welcoming enough reasoning hyped beef registered printing Falk.\n",
    "\n",
    "Separated Smile dominating taste Melissa wonderful Amy Hanging&Tale spice exotic Thursdayena tree pulled Jack whipping sad hut bacon hostedrp frank Fra oven licensed bitch jokes disrupt Captain eCID jerk arrived perfection upset cache nasty .conf billion Harold authenticity abuse Ding happening zoom greeting invited episode resort originated can close isolated classics*a burst f obstacles sit Brent redhead exists struck Theater Thurmont Bumble JewishIn deer pumpkin Sig dear fool get Death surrender landing testers Los Eric bel alligator stage forgot interim accrued committed grave cigar afraid held private ladder paid diagnosed refused linkedexpensivevon enemy Kennyitemalive portion."
   ]
  },
  {
   "cell_type": "markdown",
   "id": "fda08578-c348-4cde-ad03-371f58ff03f4",
   "metadata": {},
   "source": [
    "\n",
    "*What the hell? Definitely took it too high with the temperature, but I really did not think 1.3 (on a scale from 0 to 2) was going to make it react like this. The first few words seem to make sense, until we get to \"her inherited success threatens to unnerobelty her eccentric nature.\" **Unnerobelty** -- Not a word. We continue to get made-up words and concepts (ABCD doctors). I feel like reading this is going to give me an aneurysm. I'm just going to try with temperature of 1.*\n"
   ]
  },
  {
   "cell_type": "code",
   "execution_count": 1,
   "id": "6f8f7991-42e9-4123-98e1-dd30692effb7",
   "metadata": {},
   "outputs": [],
   "source": [
    "from openai import OpenAI\n",
    "import os\n",
    "import pandas as pd"
   ]
  },
  {
   "cell_type": "code",
   "execution_count": 2,
   "id": "4540e3da-15b1-4625-871a-9c73ebc7569e",
   "metadata": {},
   "outputs": [],
   "source": [
    "apikey = open('../../../../00_Introduction_and_Setup/.apikey').read().strip()\n",
    "os.environ['OPENAI_API_KEY'] = apikey"
   ]
  },
  {
   "cell_type": "code",
   "execution_count": 3,
   "id": "5c0b4f07-cdde-404e-a788-378dec690566",
   "metadata": {},
   "outputs": [],
   "source": [
    "model = \"gpt-4\"\n",
    "system_role = \"\"\n",
    "initial_prompt = '''\n",
    "        Create the new season of the White Lotus, describing the characters, plot, location, and description. \n",
    "        After this, give a detailed journey on how the season unfolds.\n",
    "        '''\n",
    "\n",
    "messages = [\n",
    "    {\"role\": \"system\", \"content\": system_role} ,\n",
    "    {\"role\": \"user\", \"content\": initial_prompt},\n",
    "    # {\"role\": \"assistant\", \"content\": \"\" },\n",
    "    # {\"role\": \"user\", \"content\": \"\" }\n",
    "]"
   ]
  },
  {
   "cell_type": "code",
   "execution_count": 4,
   "id": "5f760a00-6a8b-4d6d-ac4c-5693a6870c05",
   "metadata": {},
   "outputs": [],
   "source": [
    "client = OpenAI()\n",
    "\n",
    "completion = client.chat.completions.create(\n",
    "  model=model,        # the model to use \n",
    "  messages=messages,  # a list of dictionaries with the prompt\n",
    "  n=1,                # how many responses to generate\n",
    "  temperature=1.3     # temperature parameter\n",
    ")\n",
    "\n",
    "response = completion.choices[0].message.content"
   ]
  },
  {
   "cell_type": "markdown",
   "id": "ae05f4ef-f830-4276-a7d5-ea2b395dd1c6",
   "metadata": {},
   "source": [
    "## Let's try again"
   ]
  },
  {
   "cell_type": "markdown",
   "id": "b6defbf4-0f58-42b7-8cdf-a3f0d0dc9ff9",
   "metadata": {},
   "source": [
    "**Me**: Create the new season of the White Lotus, describing the characters, plot, location, and description. After this, give a detailed journey on how the season unfolds.\n",
    "\n",
    "**GPT**: Title: White Lotus: Hidden Palms\n",
    "\n",
    "Location:\n",
    "This season of White Lotus is set on the exclusive, secluded, and glamorous Hidden Palms resort nestled on the soft sandy beaches of Barbados. Painted with extraordinary views of sapphire seas, vernal mountains, and exuberant gardens, Hidden Palms has its way of binding together the rich, the influential, and the whimsical celebrities from around the globe.\n",
    "\n",
    "Characters:\n",
    "\n",
    "1. Diane Weston: A high-spirited, luxury resort critic renowned for her exceptional taste and meticulous reviews. She treads into the resort with her incoming storm of criticism and her facade of high spirits. \n",
    "\n",
    "2. Martin Bohale: A decorated espionage novelist seeking solitude to work on his next magnum opus.\n",
    "\n",
    "3. The McCallisters: A wealthy yet dysfunctional family replete with squabbles and secrets, coming to escape their stresses back home.\n",
    "\n",
    "4. Jackie Haynes: A high-profile tech entrepreneur seeking a breather from her frenzied lifestyle and overflowing media attention.\n",
    "\n",
    "5. The resort staff: A motley crew of colorful characters, including the haughty hotel manager, the clandestine maid, the mysterious bartender, and the charismatic but secretive entertainment director.\n",
    "\n",
    "Plot:\n",
    "\n",
    "As the sun-kissed resort welcomes its guests, every vacationer brings along a suitcase of secrets, vices, and ulterior motives. Spiraling through laughter, heartbreak, deceit, and revelation, these dramas intricately interweave, culminating in a shocking revelation - a mysterious death at the resort.\n",
    "\n",
    "Diane puts up her ebullient quirks while secretly penning her crushing review. Martin finds uncommon distractions in Jackie, who is not just a picturesque diversion but someone with her own secretive baggage. The McCallisters encapsulate their accumulated stress into hidden tensions that manifest as frequent flare-ups. The staff pivots through the guests' drama whilst maintaining their flawless service.\n",
    "\n",
    "Unfolding the Season:\n",
    "\n",
    "Parallel to the guests' narrative, the resort staff grapples with working under a tyrannical manager, concealing their private lives, forging unlikely alliances, and managing guests' demands. When the initial days see guests unwinding, hinting towards their confrontations, the staff too unfolds their past baggage.\n",
    "\n",
    "Diane starts investigating the underbelly of Hidden Palms, feeding off juicy bits from the disgruntled employees for her viral review. Jackie and Martin's unexpected camaraderie creates waves, provoking unforeseen incidents in the group. Meanwhile, the McCallister's troubles reach a boiling point resulting in a public breakdown. \n",
    "\n",
    "As the private lives of guests and staff begin to unravel, a tragic accident occurs - one of the guests is found dead. The idyllic facade of Hidden Palms turns into a giant crime scene, shoving everyone present into a whirlpool of suspicion, turning everyone's life upside down.\n",
    "\n",
    "Solving this mystery ties together the rest of the season, with each episode unravelling clues from unexpected quarters. As the vacation transforms into a quest to uncover the truth - suspicions arise, secrets are unveiled, and relationships are tested while the idyllic resort transforms into a riveting thriller landscape. The tropical escape ends with an array of shocking revelations and twisted justice, setting the stage for another vacation in a forthcoming season."
   ]
  },
  {
   "cell_type": "markdown",
   "id": "1f641c58-06a2-44d4-bd54-7ea8477dc682",
   "metadata": {},
   "source": [
    "\n",
    "*There we go; a lot better with a temperature of 1. If White Lotus were to have a generalized formula to develop its plot and characters, GPT seems like it would be following that formula here. It introduces a diverse cast with intriguing backgrounds, and weaves together personal secrets as well as a mysterious death, keeping true to the show's themes of privilege and hidden truths. While the narrative is engaging and for sure fits the mold of the series so far (definitely more generalized ideas though), the depth and societal commentary characteristic of it would still need a human writer's touch for full realization.*\n"
   ]
  },
  {
   "cell_type": "markdown",
   "id": "ef9015c1-f13e-42ee-8295-2e2ddbd750b6",
   "metadata": {},
   "source": [
    "## Hype-Up Poster"
   ]
  },
  {
   "cell_type": "markdown",
   "id": "e4bc8cf1-05e3-4072-8161-dfeac9fd526b",
   "metadata": {},
   "source": [
    "*Now, let's create a hype-up poster with Dall-E. I put GPT's description of the plot/characters in the Dall-E prompt. Here's the result:*"
   ]
  },
  {
   "cell_type": "code",
   "execution_count": 6,
   "id": "24335e60-5e68-4610-b7ee-1da348b9d4d3",
   "metadata": {},
   "outputs": [],
   "source": [
    "model = \"gpt-4\"\n",
    "system_role = \"\"\n",
    "initial_prompt = '''\n",
    "        Create the new season of the White Lotus, describing the characters, plot, location, and description. \n",
    "        After this, give a detailed journey on how the season unfolds.\n",
    "        '''\n",
    "\n",
    "messages = [\n",
    "    {\"role\": \"system\", \"content\": system_role} ,\n",
    "    {\"role\": \"user\", \"content\": initial_prompt},\n",
    "    # {\"role\": \"assistant\", \"content\": \"\" },\n",
    "    # {\"role\": \"user\", \"content\": \"\" }\n",
    "]"
   ]
  },
  {
   "cell_type": "code",
   "execution_count": 7,
   "id": "bde40523-8939-4db6-aace-bff2a96183fa",
   "metadata": {},
   "outputs": [],
   "source": [
    "client = OpenAI()\n",
    "\n",
    "completion = client.chat.completions.create(\n",
    "  model=model,        # the model to use \n",
    "  messages=messages,  # a list of dictionaries with the prompt\n",
    "  n=1,                # how many responses to generate\n",
    "  temperature=1     # temperature parameter\n",
    ")\n",
    "\n",
    "response = completion.choices[0].message.content"
   ]
  },
  {
   "cell_type": "code",
   "execution_count": 11,
   "id": "7ac05008-2b7b-49d1-92f0-711301de8e58",
   "metadata": {},
   "outputs": [],
   "source": [
    "client = OpenAI()\n",
    "\n",
    "response = client.images.generate(\n",
    "  model=\"dall-e-3\",\n",
    "  prompt=\"Create a poster in anticipation of this show: White Lotus: Hidden palms is a captivating series set in the luxurious Hidden Palms resort in Barbados, where a mix of affluent and influential guests converge, each harboring their own secrets and motives. Among them are Diane Weston, a discerning luxury resort critic; Martin Bohale, an espionage novelist seeking solitude; the McCallisters, a wealthy family escaping their troubles; and Jackie Haynes, a tech entrepreneur looking for a break from her busy life. The resort's staff, including a haughty hotel manager and a mysterious bartender, navigate their own challenges while attending to the guests' needs. zas the series unfolds, the guests' and staff's personal dramas and secrets intertwine against the backdrop of the picturesque resort. The plot thickens with a mysterious death, turning the idyllic vacation spot into a suspenseful crime scene. Investigations reveal hidden facets of the guests' and staff's lives, leading to unexpected alliances, revelations, and a quest for the truth. The season ends with shocking discoveries and resolutions.\",\n",
    "    size=\"1024x1024\",\n",
    "    quality=\"standard\",\n",
    "    n=1,\n",
    ")\n",
    "\n",
    "image_url = response.data[0].url"
   ]
  },
  {
   "cell_type": "markdown",
   "id": "9f36d7aa-9f86-436e-9ea3-53677ec36417",
   "metadata": {},
   "source": [
    "![](white.png)"
   ]
  },
  {
   "cell_type": "markdown",
   "id": "20dbb5b2-7920-423d-b445-c406ea387024",
   "metadata": {},
   "source": [
    "*The result is fairly wild and a little provocative. It doesn't quite meet what I wanted or expected from a TV show/Movie poster. Doesn't include any words or imply that it is a TV show at all.* \n",
    "\n",
    "*So, I wanted to try again. I want to the ChatGPT website itself and put the same prompt of \"Create a poster in anticipation of this show\" with the description following. Here's the result:*"
   ]
  },
  {
   "cell_type": "markdown",
   "id": "0079e2ac-0857-49c9-a686-d0e9a2aff35f",
   "metadata": {},
   "source": [
    "\n",
    "![](lotus.png)"
   ]
  },
  {
   "cell_type": "markdown",
   "id": "1543c322-2951-4feb-9f6c-62057304db9e",
   "metadata": {},
   "source": [
    "*There we go, a lot better, now I'm excited. What show should be next?*"
   ]
  }
 ],
 "metadata": {
  "citation-manager": {
   "items": {}
  },
  "kernelspec": {
   "display_name": "Python 3.11 (COMM4190)",
   "language": "python",
   "name": "comm4190"
  },
  "language_info": {
   "codemirror_mode": {
    "name": "ipython",
    "version": 3
   },
   "file_extension": ".py",
   "mimetype": "text/x-python",
   "name": "python",
   "nbconvert_exporter": "python",
   "pygments_lexer": "ipython3",
   "version": "3.11.7"
  }
 },
 "nbformat": 4,
 "nbformat_minor": 5
}
