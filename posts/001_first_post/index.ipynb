{
 "cells": [
  {
   "cell_type": "raw",
   "id": "5a934ae0-8755-49c5-97f8-8935164d610f",
   "metadata": {},
   "source": [
    "---\n",
    "title: \"First post\"\n",
    "description: \"My first post for Comm: 'Talking with AI'\"\n",
    "author: \"Manas\"\n",
    "date: \"2/6/2024\"\n",
    "categories:\n",
    "  - LLMs\n",
    "  - Jeff\n",
    "  - Alignment\n",
    "---"
   ]
  },
  {
   "cell_type": "code",
   "execution_count": null,
   "id": "ae8eeba1-27c7-4cdd-aab0-989000a50745",
   "metadata": {},
   "outputs": [],
   "source": []
  }
 ],
 "metadata": {
  "citation-manager": {
   "items": {}
  },
  "kernelspec": {
   "display_name": "Python 3.11 (COMM4190)",
   "language": "python",
   "name": "comm4190"
  },
  "language_info": {
   "codemirror_mode": {
    "name": "ipython",
    "version": 3
   },
   "file_extension": ".py",
   "mimetype": "text/x-python",
   "name": "python",
   "nbconvert_exporter": "python",
   "pygments_lexer": "ipython3",
   "version": "3.11.7"
  }
 },
 "nbformat": 4,
 "nbformat_minor": 5
}
