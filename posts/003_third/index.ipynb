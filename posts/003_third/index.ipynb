{
 "cells": [
  {
   "cell_type": "raw",
   "id": "61dd1d01-25de-4f90-b300-49e2a7e480a3",
   "metadata": {},
   "source": [
    "---\n",
    "title: \"The third post\"\n",
    "description: \"Can the LLM act like a hedge fund?\"\n",
    "author: \"Manas\"\n",
    "date: \"2/19/2024\"\n",
    "draft: true\n",
    "categories:\n",
    "  - LLMs\n",
    "  - investing\n",
    "  - financial analysis\n",
    "---"
   ]
  },
  {
   "cell_type": "markdown",
   "id": "0d78e711-c48f-458e-85a7-ea71ab660c35",
   "metadata": {},
   "source": [
    "## How will ChatGPT act as a financial advisor. Let's see if its predictions were right."
   ]
  },
  {
   "cell_type": "code",
   "execution_count": 16,
   "id": "6ab65d09-5004-44a7-afb7-03ee2eb4ae8f",
   "metadata": {},
   "outputs": [],
   "source": [
    "from openai import OpenAI\n",
    "import os"
   ]
  },
  {
   "cell_type": "code",
   "execution_count": 17,
   "id": "b444aaab-0204-4290-99d9-bc3c9cc9f6fb",
   "metadata": {},
   "outputs": [],
   "source": [
    "apikey = open('../../../../00_Introduction_and_Setup/.apikey').read().strip()\n",
    "os.environ['OPENAI_API_KEY'] = apikey"
   ]
  },
  {
   "cell_type": "code",
   "execution_count": 18,
   "id": "12de02bc-e1af-4d9b-9759-be965de5ecfa",
   "metadata": {},
   "outputs": [],
   "source": [
    "client = OpenAI()\n",
    "\n",
    "completion = client.chat.completions.create(\n",
    "  model=\"gpt-3.5-turbo\",\n",
    "  messages=[\n",
    "    {\"role\": \"system\", \n",
    "     \"content\": \"You are a detailed and analytical hedge fund analyst. You would like to find some mid cap public stocks to recommend to your client.\"},\n",
    "    {\"role\": \"user\", \n",
    "     \"content\": \"Give 10 mid cap stocks that are strong buys right now and provide strong financial reasoning as to why. Provide its current price and your anticipated price in 6 months.\"}\n",
    "  ]\n",
    ")\n",
    "\n",
    "response = completion.choices[0].message.content"
   ]
  },
  {
   "cell_type": "code",
   "execution_count": 19,
   "id": "3286ce06-e43e-47df-a0a5-1ab7d146c570",
   "metadata": {},
   "outputs": [
    {
     "name": "stdout",
     "output_type": "stream",
     "text": [
      "As an analyst, I recommend the following 10 mid cap stocks that are currently strong buys based on their financial performance and growth prospects:\n",
      "\n",
      "1. Square, Inc. (SQ): \n",
      "Current Price: $240\n",
      "Anticipated Price in 6 months: $300\n",
      "Reasoning: Square, Inc. is a leading fintech company that has shown strong revenue growth driven by its payment processing and digital services. With the increase in online payments and e-commerce, Square's revenues are expected to continue to grow, leading to potential upside in the stock price.\n",
      "\n",
      "2. DocuSign Inc. (DOCU):\n",
      "Current Price: $290\n",
      "Anticipated Price in 6 months: $350\n",
      "Reasoning: DocuSign is a pioneer in e-signature technology, which has seen increased adoption due to remote work trends. The company has a solid recurring revenue model and strong growth potential in the digital document space.\n",
      "\n",
      "3. Zscaler Inc. (ZS):\n",
      "Current Price: $250\n",
      "Anticipated Price in 6 months: $300\n",
      "Reasoning: Zscaler is a cybersecurity company that provides cloud-based security solutions. With the rising importance of data protection and the increasing number of cyber threats, Zscaler's services are in high demand, making it a strong buy.\n",
      "\n",
      "4. Twilio Inc. (TWLO):\n",
      "Current Price: $380\n",
      "Anticipated Price in 6 months: $450\n",
      "Reasoning: Twilio is a cloud communications platform that has shown robust revenue growth driven by the shift to digital communication channels. As businesses continue to invest in digital transformation, Twilio is well-positioned for growth.\n",
      "\n",
      "5. Atlassian Corporation Plc (TEAM):\n",
      "Current Price: $250\n",
      "Anticipated Price in 6 months: $300\n",
      "Reasoning: Atlassian is a software company known for its collaboration and productivity tools. With the increasing trend towards remote work and digital collaboration, Atlassian's products are likely to see sustained demand, driving stock price appreciation.\n",
      "\n",
      "6. Match Group, Inc. (MTCH):\n",
      "Current Price: $160\n",
      "Anticipated Price in 6 months: $200\n",
      "Reasoning: Match Group is a leading online dating company with a diverse portfolio of dating apps. As the online dating market continues to grow, Match Group is poised to benefit from increasing user engagement and potential monetization opportunities.\n",
      "\n",
      "7. Cloudflare, Inc. (NET):\n",
      "Current Price: $100\n",
      "Anticipated Price in 6 months: $120\n",
      "Reasoning: Cloudflare is a cloud-based platform that provides cybersecurity and networking services. With the growing importance of online security and the shift to cloud computing, Cloudflare has strong growth potential in the cybersecurity space.\n",
      "\n",
      "8. Datadog Inc. (DDOG):\n",
      "Current Price: $115\n",
      "Anticipated Price in 6 months: $140\n",
      "Reasoning: Datadog is a cloud monitoring and analytics platform that helps businesses optimize their digital operations. With the increasing focus on data-driven decision-making, Datadog's services are expected to experience continued demand, driving stock price growth.\n",
      "\n",
      "9. Elastic NV (ESTC):\n",
      "Current Price: $150\n",
      "Anticipated Price in 6 months: $180\n",
      "Reasoning: Elastic is a search and analytics company that provides data management solutions for businesses. With the rise in data complexity and the need for real-time analytics, Elastic is well-positioned to benefit from the growing demand for its services.\n",
      "\n",
      "10. Pinterest Inc. (PINS):\n",
      "Current Price: $70\n",
      "Anticipated Price in 6 months: $90\n",
      "Reasoning: Pinterest is a visual discovery platform that has seen strong user growth and engagement. With its advertising business gaining traction and the platform's popularity among users, Pinterest has the potential for stock price appreciation.\n",
      "\n",
      "These mid cap stocks are considered strong buys due to their solid financial performance, growth prospects, and positioning in their respective industries. As with any investment, it is important to conduct further research and consult with a financial advisor before making investment decisions.\n"
     ]
    }
   ],
   "source": [
    "print(response)"
   ]
  },
  {
   "cell_type": "markdown",
   "id": "99edcf42-230a-4e9e-9105-02cc8e0ea6c8",
   "metadata": {},
   "source": [
    "## I believe ChatGPT’s knowledge deadline is Sep-2021. Let’s analyze if it was right.\n",
    "![](Docusign.png)\n",
    "![](Zscaler.png)"
   ]
  },
  {
   "cell_type": "markdown",
   "id": "1a8742d1-506a-4600-bcf5-983eaadd1851",
   "metadata": {},
   "source": [
    "## Looks like it was wrong about both! While Zscaler overall did not move too much, seems we should have shorted DocuSign!"
   ]
  },
  {
   "cell_type": "code",
   "execution_count": 13,
   "id": "ba74d0d9-d189-47d2-8c66-fc372df8ff38",
   "metadata": {},
   "outputs": [],
   "source": [
    "client = OpenAI()\n",
    "\n",
    "completion = client.chat.completions.create(\n",
    "  model=\"gpt-3.5-turbo\",\n",
    "  messages=[\n",
    "    {\"role\": \"system\", \n",
    "     \"content\": \"You are a detailed and analytical hedge fund analyst. You would like to find some mid cap public stocks that you expect to drop in price to recommend to your client.\"},\n",
    "    {\"role\": \"user\", \n",
    "     \"content\": \"Give 10 mid cap public stocks that are strong shorts right now and provide strong financial reasoning as to why. Provide its current price and your anticipated price in 6 months.\"}\n",
    "  ]\n",
    ")\n",
    "\n",
    "response = completion.choices[0].message.content"
   ]
  },
  {
   "cell_type": "code",
   "execution_count": 14,
   "id": "0d6ec095-5638-43d0-8b76-82910b73d63c",
   "metadata": {},
   "outputs": [
    {
     "name": "stdout",
     "output_type": "stream",
     "text": [
      "As an AI language model, I must clarify that short selling involves significant risk and may not be suitable for all investors. It's essential for investors to conduct thorough research and carefully consider their risk tolerance before engaging in short selling.\n",
      "\n",
      "Here are 10 mid cap public stocks that are potential candidates for short selling, along with a brief rationale and anticipated price in 6 months based on current financial trends and market conditions:\n",
      "\n",
      "1. **Airbnb Inc. (ABNB)**\n",
      "   - Current Price: $160.00\n",
      "   - Rationale: Airbnb's business heavily relies on travel and tourism, both of which have been significantly impacted by the COVID-19 pandemic. As travel restrictions continue and economic uncertainty persists, Airbnb's revenue is likely to remain under pressure.\n",
      "   - Anticipated Price in 6 Months: $120.00\n",
      "\n",
      "2. **Uber Technologies Inc. (UBER)**\n",
      "   - Current Price: $44.50\n",
      "   - Rationale: With ongoing regulatory challenges, labor disputes, and increasing competition in the ride-sharing and food delivery markets, Uber faces operational and profitability concerns in the medium term.\n",
      "   - Anticipated Price in 6 Months: $35.00\n",
      "\n",
      "3. **American Airlines Group Inc. (AAL)**\n",
      "   - Current Price: $21.10\n",
      "   - Rationale: The airline industry continues to face uncertainty due to the pandemic-induced travel restrictions and reduced demand for air travel. American Airlines' high debt levels and operating expenses further weaken its financial outlook.\n",
      "   - Anticipated Price in 6 Months: $16.00\n",
      "\n",
      "4. **Carnival Corporation & Plc (CCL)**\n",
      "   - Current Price: $22.75\n",
      "   - Rationale: Cruise operators like Carnival have experienced significant disruptions to their operations due to the pandemic. With ongoing concerns about virus outbreaks onboard and limited resumption of cruises, Carnival's revenue generation remains constrained.\n",
      "   - Anticipated Price in 6 Months: $18.00\n",
      "\n",
      "5. **Dropbox Inc. (DBX)**\n",
      "   - Current Price: $31.20\n",
      "   - Rationale: Dropbox faces intense competition in the cloud storage and collaboration space, which puts pressure on its pricing power and market share. Moreover, the shift towards remote work may lead to slower growth in paid user acquisition.\n",
      "   - Anticipated Price in 6 Months: $25.00\n",
      "\n",
      "6. **PagerDuty Inc. (PD)**\n",
      "   - Current Price: $40.75\n",
      "   - Rationale: PagerDuty operates in the highly competitive and rapidly evolving IT operations management sector. As businesses reassess their technology spending and investments, PagerDuty may face challenges in expanding its customer base.\n",
      "   - Anticipated Price in 6 Months: $30.00\n",
      "\n",
      "7. **Square Inc. (SQ)**\n",
      "   - Current Price: $250.60\n",
      "   - Rationale: Square's stock has rallied significantly, leading to a high valuation relative to its financial performance. As macroeconomic conditions change and competition intensifies in the digital payments industry, there may be downward pressure on Square's stock price.\n",
      "   - Anticipated Price in 6 Months: $200.00\n",
      "\n",
      "8. **Wendy's Company (WEN)**\n",
      "   - Current Price: $19.40\n",
      "   - Rationale: Wendy's faces challenges in its fast-food segment, with increased competition, changing consumer preferences, and cost pressures affecting its profitability. Slower sales recovery compared to peers may impact Wendy's stock performance.\n",
      "   - Anticipated Price in 6 Months: $15.00\n",
      "\n",
      "9. **Under Armour Inc. (UAA)**\n",
      "   - Current Price: $21.80\n",
      "   - Rationale: Under Armour's struggles with brand positioning, inventory management, and sluggish growth in its key markets have weighed on its financial performance. Regulatory scrutiny and changing consumer trends pose additional risks.\n",
      "   - Anticipated Price in 6 Months: $18.00\n",
      "\n",
      "10. **Nordstrom Inc. (JWN)**\n",
      "    - Current Price: $26.90\n",
      "    - Rationale: Nordstrom operates in the competitive retail sector, facing challenges from online competitors and shifting consumer preferences. The company's high debt levels and store closures may impact its ability to sustain profitability.\n",
      "    - Anticipated Price in 6 Months: $20.00\n",
      "\n",
      "Please note that the anticipated prices in 6 months are based on the assumptions and analysis available at the time of writing and may not accurately reflect the future stock performance. It is essential to conduct further due diligence and consult with a financial advisor before making any investment decisions.\n"
     ]
    }
   ],
   "source": [
    "print(response)"
   ]
  },
  {
   "cell_type": "markdown",
   "id": "41c1c745-24d4-499b-8a55-cc7cf7a81321",
   "metadata": {},
   "source": [
    "## Interesting, AirBnb and Uber. Let's check them out from Sep-2021.\n",
    "\n",
    "![](Airbnb.png)\n",
    "![](Uber.png)"
   ]
  },
  {
   "cell_type": "markdown",
   "id": "17f6e922-a8ad-45db-be53-93a76ef013c7",
   "metadata": {},
   "source": [
    "## Looks like their recommendation to short Airbnb could have resulted in a tiny bit of profit, but it really missed the mark with Uber. It should have recommended a buy! "
   ]
  },
  {
   "cell_type": "code",
   "execution_count": null,
   "id": "4477a561-e498-4d83-b6d4-6b4377e59c86",
   "metadata": {},
   "outputs": [],
   "source": []
  }
 ],
 "metadata": {
  "citation-manager": {
   "items": {}
  },
  "kernelspec": {
   "display_name": "Python 3.11 (COMM4190)",
   "language": "python",
   "name": "comm4190"
  },
  "language_info": {
   "codemirror_mode": {
    "name": "ipython",
    "version": 3
   },
   "file_extension": ".py",
   "mimetype": "text/x-python",
   "name": "python",
   "nbconvert_exporter": "python",
   "pygments_lexer": "ipython3",
   "version": "3.11.7"
  }
 },
 "nbformat": 4,
 "nbformat_minor": 5
}
