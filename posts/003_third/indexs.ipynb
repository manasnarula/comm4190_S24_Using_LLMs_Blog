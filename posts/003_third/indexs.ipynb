{
 "cells": [
  {
   "cell_type": "raw",
   "id": "cdd12b8c-5cc1-4f72-b641-8b0efe34572b",
   "metadata": {},
   "source": [
    "---\n",
    "title: \"Can GPT-3 Run a Hedge Fund?\"\n",
    "description: \"Testing AI's Financial Acumen: 10 Buys and 10 Shorts\"\n",
    "author: \"Manas\"\n",
    "date: \"2/19/2024\"\n",
    "execute:\n",
    "  echo: false\n",
    "categories:\n",
    "  - investing\n",
    "  - financial analysis\n",
    "---"
   ]
  },
  {
   "cell_type": "raw",
   "id": "b055942f-2d8e-489c-894b-71ff0414f62b",
   "metadata": {},
   "source": [
    "We've seen LLMs tackle a lot of tasks with surprising adeptness. But how do they fare when venturing into the complex and fairly unpredictable world of financial markets? Can GPT-3 act like a hedge fund manager?\n",
    "\n",
    "I tasked GPT-3, which is not specifically \"trained\" in the ins and outs of investing, with recommending 10 mid-cap public stocks to buy and hold for the long term, as well as 10 stocks to short. The goal was to assess not only the model's ability to give solid investment advice but also to understand its underlying rationale.\n",
    "\n",
    "Given GPT-3's last training data up to September 2021, this experiment offers a unique opportunity to analyze the model's insights against the subsequent market developments up until this point. It's a test of whether an AI, without real-time market data or the ability to analyze financial statements in the way humans do, can still uncover valuable investment strategies through its pre-existing knowledge.\n",
    "\n",
    "In this post, I'll share the stocks GPT-3 recommended and a comparison of how these picks have performed in the time since. Have these selections beaten the market, or did they fall short of GPT Partners' expectations? "
   ]
  },
  {
   "cell_type": "code",
   "execution_count": 1,
   "id": "c28d8b7a-9291-4758-aa91-b6fdc8ecb178",
   "metadata": {},
   "outputs": [],
   "source": [
    "from openai import OpenAI\n",
    "import os"
   ]
  },
  {
   "cell_type": "code",
   "execution_count": 2,
   "id": "1c559b2a-7466-4785-b82f-6371626f0e85",
   "metadata": {},
   "outputs": [],
   "source": [
    "apikey = open('../../../../00_Introduction_and_Setup/.apikey').read().strip()\n",
    "os.environ['OPENAI_API_KEY'] = apikey"
   ]
  },
  {
   "cell_type": "code",
   "execution_count": 3,
   "id": "4c5fb7cc-9b41-43e4-9550-df2362ce5123",
   "metadata": {},
   "outputs": [],
   "source": [
    "client = OpenAI()\n",
    "\n",
    "completion = client.chat.completions.create(\n",
    "  model=\"gpt-3.5-turbo\",\n",
    "  messages=[\n",
    "    {\"role\": \"system\", \n",
    "     \"content\": \"You are a detailed and analytical hedge fund analyst. You would like to find some mid-cap public stocks to recommend to your client for the long term.\"},\n",
    "    {\"role\": \"user\", \n",
    "     \"content\": \"Give 10 mid cap stocks that are strong long term buys and provide strong financial reasoning as to why. Provide its current price and your anticipated price in 2 years.\"}\n",
    "  ]\n",
    ")\n",
    "\n",
    "response = completion.choices[0].message.content"
   ]
  },
  {
   "cell_type": "code",
   "execution_count": 4,
   "id": "a87bfa9d-ae21-48e4-980c-f406514bfec4",
   "metadata": {},
   "outputs": [
    {
     "name": "stdout",
     "output_type": "stream",
     "text": [
      "As a hedge fund analyst, I conduct in-depth analysis of mid-cap stocks to identify potential long-term investment opportunities. Here are 10 mid-cap stocks that I believe are strong long-term buys, along with their current prices and my anticipated prices in 2 years based on their financial performance:\n",
      "\n",
      "1. **The Trade Desk, Inc. (TTD)**\n",
      "   Current Price: $580.50\n",
      "   Anticipated Price in 2 Years: $750\n",
      "   **Financial Reasoning:** The Trade Desk is a leading technology company in the digital advertising space. The company has consistently delivered strong revenue growth and profitability due to the shift in advertising budgets towards digital platforms. With a solid balance sheet and innovative products, I anticipate continued growth for The Trade Desk in the coming years.\n",
      "\n",
      "2. **DocuSign, Inc. (DOCU)**\n",
      "   Current Price: $280.10\n",
      "   Anticipated Price in 2 Years: $350\n",
      "   **Financial Reasoning:** DocuSign is a pioneer in electronic signature and document management solutions. The company's subscription-based model provides steady recurring revenue streams and strong cash flows. As businesses increasingly digitize their operations, DocuSign is well-positioned to benefit from this trend, leading to sustained growth in the long term.\n",
      "\n",
      "3. **Square, Inc. (SQ)**\n",
      "   Current Price: $251.60\n",
      "   Anticipated Price in 2 Years: $320\n",
      "   **Financial Reasoning:** Square is a fintech company that offers integrated payment and financial services to businesses and individuals. The company's diverse product offerings, including Cash App and Square Capital, have driven significant revenue growth. With the ongoing digitization of payments and financial services, I expect Square to continue its robust performance in the future.\n",
      "\n",
      "4. **Datadog, Inc. (DDOG)**\n",
      "   Current Price: $153.40\n",
      "   Anticipated Price in 2 Years: $200\n",
      "   **Financial Reasoning:** Datadog provides monitoring and analytics tools for cloud-based applications, catering to the growing demand for cloud infrastructure services. The company has shown impressive revenue growth and customer retention rates. As the adoption of cloud computing accelerates, Datadog is well-positioned to capitalize on this trend, driving its stock price higher.\n",
      "\n",
      "5. **CrowdStrike Holdings, Inc. (CRWD)**\n",
      "   Current Price: $226.80\n",
      "   Anticipated Price in 2 Years: $300\n",
      "   **Financial Reasoning:** CrowdStrike is a cybersecurity company that offers cloud-native endpoint protection solutions. The increasing frequency of cyber threats and the shift towards remote work have boosted demand for cybersecurity services. With a strong track record of revenue growth and a scalable business model, CrowdStrike is poised for continued success in the long term.\n",
      "\n",
      "6. **Invitae Corporation (NVTA)**\n",
      "   Current Price: $40.30\n",
      "   Anticipated Price in 2 Years: $60\n",
      "   **Financial Reasoning:** Invitae is a leading genetics testing company that provides comprehensive genetic information for healthcare decision-making. The company's expanding test portfolio and partnerships with healthcare providers position it well for sustained growth in the genetic testing market. As personalized medicine gains traction, Invitae's stock is expected to appreciate.\n",
      "\n",
      "7. **Five9, Inc. (FIVN)**\n",
      "   Current Price: $191.20\n",
      "   Anticipated Price in 2 Years: $250\n",
      "   **Financial Reasoning:** Five9 is a cloud-based contact center software provider that enables businesses to enhance customer service operations. The company has exhibited strong revenue growth and customer retention rates due to the growing demand for cloud-based communication solutions. As companies prioritize customer experience, Five9 is likely to experience continued growth, translating into stock price appreciation.\n",
      "\n",
      "8. **Zscaler, Inc. (ZS)**\n",
      "   Current Price: $248.90\n",
      "   Anticipated Price in 2 Years: $320\n",
      "   **Financial Reasoning:** Zscaler is a cloud security company that offers integrated security solutions for network and data protection. The increasing cybersecurity threats and the rise of remote work have driven demand for Zscaler's services. With a subscription-based revenue model and a focus on innovation, Zscaler is well-positioned for long-term growth as organizations prioritize cybersecurity measures.\n",
      "\n",
      "9. **Paycom Software, Inc. (PAYC)**\n",
      "   Current Price: $462.40\n",
      "   Anticipated Price in 2 Years: $580\n",
      "   **Financial Reasoning:** Paycom is a provider of cloud-based human capital management software solutions, offering services such as payroll, HR, and talent management. The company has demonstrated strong revenue growth and client retention rates in the competitive HCM software market. With the shift towards digitization of HR processes, Paycom is likely to sustain its growth trajectory, supporting a higher stock price.\n",
      "\n",
      "10. **Atlassian Corporation Plc (TEAM)**\n",
      "    Current Price: $405.60\n",
      "    Anticipated Price in 2 Years: $500\n",
      "    **Financial Reasoning:** Atlassian is a leading provider of collaboration and productivity software for teams and enterprises. The company's suite of products, including Jira and Confluence, has gained widespread adoption among businesses seeking to improve workflow efficiency. With a solid track record of revenue growth and profitability, Atlassian is positioned for long-term success as demand for remote collaboration tools continues to rise.\n",
      "\n",
      "These mid-cap stocks offer strong growth potential and are backed by solid financial performance, making them attractive long-term investment opportunities. However, it's important to conduct thorough research and monitor market conditions before making any investment decisions.\n"
     ]
    }
   ],
   "source": [
    "print(response)"
   ]
  },
  {
   "cell_type": "code",
   "execution_count": null,
   "id": "e66465a2-358c-4eaf-8029-95b6dc68ffa7",
   "metadata": {},
   "outputs": [],
   "source": []
  }
 ],
 "metadata": {
  "citation-manager": {
   "items": {}
  },
  "kernelspec": {
   "display_name": "Python 3.11 (COMM4190)",
   "language": "python",
   "name": "comm4190"
  },
  "language_info": {
   "codemirror_mode": {
    "name": "ipython",
    "version": 3
   },
   "file_extension": ".py",
   "mimetype": "text/x-python",
   "name": "python",
   "nbconvert_exporter": "python",
   "pygments_lexer": "ipython3",
   "version": "3.11.7"
  }
 },
 "nbformat": 4,
 "nbformat_minor": 5
}
