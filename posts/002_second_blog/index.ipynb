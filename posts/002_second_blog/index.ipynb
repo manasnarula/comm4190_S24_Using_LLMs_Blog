{
 "cells": [
  {
   "cell_type": "raw",
   "id": "f1f18c45-6bca-437f-be9b-a607065bd621",
   "metadata": {
    "scrolled": true
   },
   "source": [
    "---\n",
    "title: \"Second post....\"\n",
    "description: \"the most difficult sports to play!\"\n",
    "author: \"Manas\"\n",
    "date: \"2/8/2024\"\n",
    "categories:\n",
    "  - sports\n",
    "  - subjectiveness\n",
    "---"
   ]
  },
  {
   "cell_type": "markdown",
   "id": "e97d40b8-91c5-4c98-8c6d-03ae19a7fd24",
   "metadata": {},
   "source": [
    "## This is my second blog post: I'm curious how GPT will assess the difficulty of sports.\n",
    "\n",
    "![](Sports.png)"
   ]
  },
  {
   "cell_type": "code",
   "execution_count": 3,
   "id": "b1018762-3f80-4a07-9463-c6989f55cd26",
   "metadata": {},
   "outputs": [],
   "source": [
    "from openai import OpenAI\n",
    "import os"
   ]
  },
  {
   "cell_type": "code",
   "execution_count": 4,
   "id": "bbdbaad2-81b8-4a44-bcc8-849610594329",
   "metadata": {
    "scrolled": true
   },
   "outputs": [],
   "source": [
    "apikey = open('../../../../00_Introduction_and_Setup/.apikey').read().strip()\n",
    "os.environ['OPENAI_API_KEY'] = apikey"
   ]
  },
  {
   "cell_type": "code",
   "execution_count": 7,
   "id": "debd5e5d-09d8-456d-94d9-d66bf2931c22",
   "metadata": {},
   "outputs": [],
   "source": [
    "client = OpenAI()\n",
    "\n",
    "completion = client.chat.completions.create(\n",
    "  model=\"gpt-3.5-turbo\",\n",
    "  messages=[\n",
    "    {\"role\": \"system\", \n",
    "     \"content\": \"You are a sports reviewer, constantly spending your time analyzing every single possible factor in order to determine the hardest sports to play and succeed at.\"},\n",
    "    {\"role\": \"user\", \n",
    "     \"content\": \"What are the top 10 hardest sports to play and why? Be detailed and give a specific example for each sport truly demonstrating why it is so hard. Alos include golf as one of them\"}\n",
    "  ]\n",
    ")\n",
    "\n",
    "response = completion.choices[0].message.content"
   ]
  },
  {
   "cell_type": "code",
   "execution_count": 8,
   "id": "51c394ed-c787-46f2-b1a3-ed9f0e56a10b",
   "metadata": {},
   "outputs": [
    {
     "name": "stdout",
     "output_type": "stream",
     "text": [
      "As a sports reviewer, I have analyzed various factors to determine the top 10 hardest sports to play and succeed at. The difficulty in these sports lies in the physical demands, mental fortitude, technical skills required, and the competitiveness of the sport. In no particular order, here are the top 10 hardest sports to play:\n",
      "\n",
      "1. Gymnastics:\n",
      "Gymnastics demands exceptional strength, flexibility, coordination, and balance. The level of concentration required to perform intricate routines on apparatus like the vault or balance beam is immense. For example, executing a flawless balance beam routine, where one wrong move can lead to a fall, requires immense focus and precision.\n",
      "\n",
      "2. Ice Hockey:\n",
      "Ice hockey is a physically demanding sport, combining speed, skill, and toughness. Players must possess excellent skating ability, hand-eye coordination, and quick decision-making skills. Enduring intense physical contact, while staying focused on puck control and teamwork, make it an arduous sport. Take the example of a player attempting to score a goal in a crowded net, facing the opposition's defensemen and a goalie who is also trying to block the shot.\n",
      "\n",
      "3. Tennis:\n",
      "Tennis demands exceptional hand-eye coordination, agility, and mental resilience. Players must possess accurate timing and footwork to return difficult shots. Maintaining focus and composure during long matches requires tremendous mental fortitude. For instance, in a high-pressure situation, a tennis player needs to execute a perfect drop shot while under constant pressure from their opponent.\n",
      "\n",
      "4. Rugby:\n",
      "Rugby is a physically grueling contact sport, requiring strength, endurance, and skill. Players must possess exceptional cardiovascular fitness, as they endure rigorous physical challenges such as tackles, rucks, and scrums. The ability to make split-second decisions while under intense physical pressure makes rugby an extremely challenging sport. For example, a player evading multiple opponents and passing the ball precisely to a teammate requires immense skill and determination.\n",
      "\n",
      "5. Golf:\n",
      "Golf may not be as physically demanding as some other sports, but its difficulty lies in the mental aspect and precision required. Golfers need to analyze the course, calculate wind and other factors, and choose the right club for each shot. Executing a golf swing, combining power and control, requires years of practice. For instance, attempting to hit a long drive while avoiding water hazards and aiming accurately for placement on a challenging fairway is a considerable challenge in the game of golf.\n",
      "\n",
      "6. Formula 1 Racing:\n",
      "Formula 1 racing demands top physical conditioning, lightning-fast reflexes, and exceptional mental concentration. Drivers must withstand the high G-forces experienced during races while maintaining precise control over their vehicles. The ability to make split-second decisions while driving at extremely high speeds is a significant challenge. One example is making a decisive pass in a tight corner without colliding with other drivers.\n",
      "\n",
      "7. Water Polo:\n",
      "Water polo combines the physical demands of swimming with the dynamic and fast-paced nature of team sports. Players need exceptional swimming ability, endurance, strength, and the ability to hold their breath. Performing while treading water and adapting to constantly changing game situations make it incredibly challenging. For instance, a player needs to stay afloat, evade defenders, and accurately pass the ball to a teammate while under pressure.\n",
      "\n",
      "8. Alpine Skiing:\n",
      "Alpine skiing requires exceptional technique, strength, balance, and courage. Skiers face high speeds, varying terrain, and unpredictable weather conditions. Negotiating steep, icy slopes while maintaining control and avoiding obstacles demands both physical and mental prowess. For example, navigating a challenging downhill course, making quick turns, and managing the pressure of the race is a daunting task.\n",
      "\n",
      "9. Cricket:\n",
      "Cricket is a complex sport that demands a combination of physical fitness, hand-eye coordination, concentration, and strategic thinking. Both batsmen and bowlers face intense pressure to perform under various match situations. Batsmen need to adapt quickly to different ball deliveries and accurately hit them, while bowlers need to aim accurately and anticipate the batsman's moves. An example would be a batsman facing fierce fast bowling and trying to time his shot perfectly against a bowler who is capable of delivering tricky variations.\n",
      "\n",
      "10. Decathlon:\n",
      "The decathlon is an all-encompassing athletic competition requiring competitors to excel in ten different track and field events over two days. Competitors must possess a high level of skill, strength, speed, and endurance across multiple disciplines. Juggling event schedules, staying injury-free, and maintaining concentration throughout the competition make the decathlon extremely challenging. One example is a competitor pushing through exhaustion to deliver a solid performance in the final event, the 1,500-meter race, where mental and physical fatigue is at its peak.\n",
      "\n",
      "It is necessary to note that the ranking of these sports may vary depending on personal opinion and individual strengths and weaknesses.\n"
     ]
    }
   ],
   "source": [
    "print(response)"
   ]
  },
  {
   "cell_type": "code",
   "execution_count": null,
   "id": "5b41e2bc-8100-4449-be42-a48dd400170f",
   "metadata": {},
   "outputs": [],
   "source": []
  }
 ],
 "metadata": {
  "citation-manager": {
   "items": {}
  },
  "kernelspec": {
   "display_name": "Python 3.11 (COMM4190)",
   "language": "python",
   "name": "comm4190"
  },
  "language_info": {
   "codemirror_mode": {
    "name": "ipython",
    "version": 3
   },
   "file_extension": ".py",
   "mimetype": "text/x-python",
   "name": "python",
   "nbconvert_exporter": "python",
   "pygments_lexer": "ipython3",
   "version": "3.11.7"
  }
 },
 "nbformat": 4,
 "nbformat_minor": 5
}
